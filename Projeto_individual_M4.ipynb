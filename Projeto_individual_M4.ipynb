{
  "nbformat": 4,
  "nbformat_minor": 0,
  "metadata": {
    "colab": {
      "provenance": []
    },
    "kernelspec": {
      "name": "python3",
      "display_name": "Python 3"
    },
    "language_info": {
      "name": "python"
    }
  },
  "cells": [
    {
      "cell_type": "markdown",
      "source": [
        "![Logo da Resilia](https://www.resilia.com.br/wp-content/uploads/2021/08/logo.png)"
      ],
      "metadata": {
        "id": "FXnf790tt0JL"
      }
    },
    {
      "cell_type": "markdown",
      "source": [
        "# Projeto individual Módulo 4\n",
        "Aluno: Marcos da Costa Retondar"
      ],
      "metadata": {
        "id": "jZJJvNPot0un"
      }
    },
    {
      "cell_type": "markdown",
      "source": [
        "- importando as bibliotecas necessárias"
      ],
      "metadata": {
        "id": "s_zRVItZt1P9"
      }
    },
    {
      "cell_type": "code",
      "execution_count": 2,
      "metadata": {
        "id": "OvGnhFxkjLsU"
      },
      "outputs": [],
      "source": [
        "import pandas as pd\n",
        "import numpy as np\n",
        "import matplotlib.pyplot as plt"
      ]
    },
    {
      "cell_type": "markdown",
      "source": [
        "- Definindo um dicionário para criação da tabela"
      ],
      "metadata": {
        "id": "P05VWdImj9PV"
      }
    },
    {
      "cell_type": "code",
      "source": [
        "dados = {\n",
        "    'Dia': ['Segunda', 'Terça', 'Quarta', 'Quinta','Sexta','Sábado','Domingo'],\n",
        "    'Horas Trabalhadas': [6, 7, 8, 6,7,5,4],\n",
        "    'Bugs Corrigidos': [3,2,1,4,3,2,1],\n",
        "    'Tarefas Concluidas':[5,4,6,4,5,3,2]\n",
        "}"
      ],
      "metadata": {
        "id": "-ILFYOTRkDQh"
      },
      "execution_count": 3,
      "outputs": []
    },
    {
      "cell_type": "markdown",
      "source": [
        "- Ciando uma tabela igual a do contexto proposto no projeto"
      ],
      "metadata": {
        "id": "Sp1YaBLUqhvs"
      }
    },
    {
      "cell_type": "code",
      "source": [
        "tabela = pd.DataFrame(dados)\n",
        "tabela\n",
        "\n"
      ],
      "metadata": {
        "colab": {
          "base_uri": "https://localhost:8080/",
          "height": 269
        },
        "id": "rWiV7SapkZBH",
        "outputId": "3004942c-f3d4-4eca-bd4c-f8e80feddc86"
      },
      "execution_count": 4,
      "outputs": [
        {
          "output_type": "execute_result",
          "data": {
            "text/plain": [
              "       Dia  Horas Trabalhadas  Bugs Corrigidos  Tarefas Concluidas\n",
              "0  Segunda                  6                3                   5\n",
              "1    Terça                  7                2                   4\n",
              "2   Quarta                  8                1                   6\n",
              "3   Quinta                  6                4                   4\n",
              "4    Sexta                  7                3                   5\n",
              "5   Sábado                  5                2                   3\n",
              "6  Domingo                  4                1                   2"
            ],
            "text/html": [
              "\n",
              "\n",
              "  <div id=\"df-f75496ea-b57b-49a9-b804-4c6445060067\">\n",
              "    <div class=\"colab-df-container\">\n",
              "      <div>\n",
              "<style scoped>\n",
              "    .dataframe tbody tr th:only-of-type {\n",
              "        vertical-align: middle;\n",
              "    }\n",
              "\n",
              "    .dataframe tbody tr th {\n",
              "        vertical-align: top;\n",
              "    }\n",
              "\n",
              "    .dataframe thead th {\n",
              "        text-align: right;\n",
              "    }\n",
              "</style>\n",
              "<table border=\"1\" class=\"dataframe\">\n",
              "  <thead>\n",
              "    <tr style=\"text-align: right;\">\n",
              "      <th></th>\n",
              "      <th>Dia</th>\n",
              "      <th>Horas Trabalhadas</th>\n",
              "      <th>Bugs Corrigidos</th>\n",
              "      <th>Tarefas Concluidas</th>\n",
              "    </tr>\n",
              "  </thead>\n",
              "  <tbody>\n",
              "    <tr>\n",
              "      <th>0</th>\n",
              "      <td>Segunda</td>\n",
              "      <td>6</td>\n",
              "      <td>3</td>\n",
              "      <td>5</td>\n",
              "    </tr>\n",
              "    <tr>\n",
              "      <th>1</th>\n",
              "      <td>Terça</td>\n",
              "      <td>7</td>\n",
              "      <td>2</td>\n",
              "      <td>4</td>\n",
              "    </tr>\n",
              "    <tr>\n",
              "      <th>2</th>\n",
              "      <td>Quarta</td>\n",
              "      <td>8</td>\n",
              "      <td>1</td>\n",
              "      <td>6</td>\n",
              "    </tr>\n",
              "    <tr>\n",
              "      <th>3</th>\n",
              "      <td>Quinta</td>\n",
              "      <td>6</td>\n",
              "      <td>4</td>\n",
              "      <td>4</td>\n",
              "    </tr>\n",
              "    <tr>\n",
              "      <th>4</th>\n",
              "      <td>Sexta</td>\n",
              "      <td>7</td>\n",
              "      <td>3</td>\n",
              "      <td>5</td>\n",
              "    </tr>\n",
              "    <tr>\n",
              "      <th>5</th>\n",
              "      <td>Sábado</td>\n",
              "      <td>5</td>\n",
              "      <td>2</td>\n",
              "      <td>3</td>\n",
              "    </tr>\n",
              "    <tr>\n",
              "      <th>6</th>\n",
              "      <td>Domingo</td>\n",
              "      <td>4</td>\n",
              "      <td>1</td>\n",
              "      <td>2</td>\n",
              "    </tr>\n",
              "  </tbody>\n",
              "</table>\n",
              "</div>\n",
              "      <button class=\"colab-df-convert\" onclick=\"convertToInteractive('df-f75496ea-b57b-49a9-b804-4c6445060067')\"\n",
              "              title=\"Convert this dataframe to an interactive table.\"\n",
              "              style=\"display:none;\">\n",
              "\n",
              "  <svg xmlns=\"http://www.w3.org/2000/svg\" height=\"24px\"viewBox=\"0 0 24 24\"\n",
              "       width=\"24px\">\n",
              "    <path d=\"M0 0h24v24H0V0z\" fill=\"none\"/>\n",
              "    <path d=\"M18.56 5.44l.94 2.06.94-2.06 2.06-.94-2.06-.94-.94-2.06-.94 2.06-2.06.94zm-11 1L8.5 8.5l.94-2.06 2.06-.94-2.06-.94L8.5 2.5l-.94 2.06-2.06.94zm10 10l.94 2.06.94-2.06 2.06-.94-2.06-.94-.94-2.06-.94 2.06-2.06.94z\"/><path d=\"M17.41 7.96l-1.37-1.37c-.4-.4-.92-.59-1.43-.59-.52 0-1.04.2-1.43.59L10.3 9.45l-7.72 7.72c-.78.78-.78 2.05 0 2.83L4 21.41c.39.39.9.59 1.41.59.51 0 1.02-.2 1.41-.59l7.78-7.78 2.81-2.81c.8-.78.8-2.07 0-2.86zM5.41 20L4 18.59l7.72-7.72 1.47 1.35L5.41 20z\"/>\n",
              "  </svg>\n",
              "      </button>\n",
              "\n",
              "\n",
              "\n",
              "    <div id=\"df-1a9c07ca-c388-4cf7-b863-a67753916138\">\n",
              "      <button class=\"colab-df-quickchart\" onclick=\"quickchart('df-1a9c07ca-c388-4cf7-b863-a67753916138')\"\n",
              "              title=\"Suggest charts.\"\n",
              "              style=\"display:none;\">\n",
              "\n",
              "<svg xmlns=\"http://www.w3.org/2000/svg\" height=\"24px\"viewBox=\"0 0 24 24\"\n",
              "     width=\"24px\">\n",
              "    <g>\n",
              "        <path d=\"M19 3H5c-1.1 0-2 .9-2 2v14c0 1.1.9 2 2 2h14c1.1 0 2-.9 2-2V5c0-1.1-.9-2-2-2zM9 17H7v-7h2v7zm4 0h-2V7h2v10zm4 0h-2v-4h2v4z\"/>\n",
              "    </g>\n",
              "</svg>\n",
              "      </button>\n",
              "    </div>\n",
              "\n",
              "<style>\n",
              "  .colab-df-quickchart {\n",
              "    background-color: #E8F0FE;\n",
              "    border: none;\n",
              "    border-radius: 50%;\n",
              "    cursor: pointer;\n",
              "    display: none;\n",
              "    fill: #1967D2;\n",
              "    height: 32px;\n",
              "    padding: 0 0 0 0;\n",
              "    width: 32px;\n",
              "  }\n",
              "\n",
              "  .colab-df-quickchart:hover {\n",
              "    background-color: #E2EBFA;\n",
              "    box-shadow: 0px 1px 2px rgba(60, 64, 67, 0.3), 0px 1px 3px 1px rgba(60, 64, 67, 0.15);\n",
              "    fill: #174EA6;\n",
              "  }\n",
              "\n",
              "  [theme=dark] .colab-df-quickchart {\n",
              "    background-color: #3B4455;\n",
              "    fill: #D2E3FC;\n",
              "  }\n",
              "\n",
              "  [theme=dark] .colab-df-quickchart:hover {\n",
              "    background-color: #434B5C;\n",
              "    box-shadow: 0px 1px 3px 1px rgba(0, 0, 0, 0.15);\n",
              "    filter: drop-shadow(0px 1px 2px rgba(0, 0, 0, 0.3));\n",
              "    fill: #FFFFFF;\n",
              "  }\n",
              "</style>\n",
              "\n",
              "    <script>\n",
              "      async function quickchart(key) {\n",
              "        const containerElement = document.querySelector('#' + key);\n",
              "        const charts = await google.colab.kernel.invokeFunction(\n",
              "            'suggestCharts', [key], {});\n",
              "      }\n",
              "    </script>\n",
              "\n",
              "      <script>\n",
              "\n",
              "function displayQuickchartButton(domScope) {\n",
              "  let quickchartButtonEl =\n",
              "    domScope.querySelector('#df-1a9c07ca-c388-4cf7-b863-a67753916138 button.colab-df-quickchart');\n",
              "  quickchartButtonEl.style.display =\n",
              "    google.colab.kernel.accessAllowed ? 'block' : 'none';\n",
              "}\n",
              "\n",
              "        displayQuickchartButton(document);\n",
              "      </script>\n",
              "      <style>\n",
              "    .colab-df-container {\n",
              "      display:flex;\n",
              "      flex-wrap:wrap;\n",
              "      gap: 12px;\n",
              "    }\n",
              "\n",
              "    .colab-df-convert {\n",
              "      background-color: #E8F0FE;\n",
              "      border: none;\n",
              "      border-radius: 50%;\n",
              "      cursor: pointer;\n",
              "      display: none;\n",
              "      fill: #1967D2;\n",
              "      height: 32px;\n",
              "      padding: 0 0 0 0;\n",
              "      width: 32px;\n",
              "    }\n",
              "\n",
              "    .colab-df-convert:hover {\n",
              "      background-color: #E2EBFA;\n",
              "      box-shadow: 0px 1px 2px rgba(60, 64, 67, 0.3), 0px 1px 3px 1px rgba(60, 64, 67, 0.15);\n",
              "      fill: #174EA6;\n",
              "    }\n",
              "\n",
              "    [theme=dark] .colab-df-convert {\n",
              "      background-color: #3B4455;\n",
              "      fill: #D2E3FC;\n",
              "    }\n",
              "\n",
              "    [theme=dark] .colab-df-convert:hover {\n",
              "      background-color: #434B5C;\n",
              "      box-shadow: 0px 1px 3px 1px rgba(0, 0, 0, 0.15);\n",
              "      filter: drop-shadow(0px 1px 2px rgba(0, 0, 0, 0.3));\n",
              "      fill: #FFFFFF;\n",
              "    }\n",
              "  </style>\n",
              "\n",
              "      <script>\n",
              "        const buttonEl =\n",
              "          document.querySelector('#df-f75496ea-b57b-49a9-b804-4c6445060067 button.colab-df-convert');\n",
              "        buttonEl.style.display =\n",
              "          google.colab.kernel.accessAllowed ? 'block' : 'none';\n",
              "\n",
              "        async function convertToInteractive(key) {\n",
              "          const element = document.querySelector('#df-f75496ea-b57b-49a9-b804-4c6445060067');\n",
              "          const dataTable =\n",
              "            await google.colab.kernel.invokeFunction('convertToInteractive',\n",
              "                                                     [key], {});\n",
              "          if (!dataTable) return;\n",
              "\n",
              "          const docLinkHtml = 'Like what you see? Visit the ' +\n",
              "            '<a target=\"_blank\" href=https://colab.research.google.com/notebooks/data_table.ipynb>data table notebook</a>'\n",
              "            + ' to learn more about interactive tables.';\n",
              "          element.innerHTML = '';\n",
              "          dataTable['output_type'] = 'display_data';\n",
              "          await google.colab.output.renderOutput(dataTable, element);\n",
              "          const docLink = document.createElement('div');\n",
              "          docLink.innerHTML = docLinkHtml;\n",
              "          element.appendChild(docLink);\n",
              "        }\n",
              "      </script>\n",
              "    </div>\n",
              "  </div>\n"
            ]
          },
          "metadata": {},
          "execution_count": 4
        }
      ]
    },
    {
      "cell_type": "markdown",
      "source": [
        "- Criar o DataFrame com os dados do projeto"
      ],
      "metadata": {
        "id": "my_4reyEuBAa"
      }
    },
    {
      "cell_type": "code",
      "source": [
        "\n",
        "df = pd.DataFrame(dados)"
      ],
      "metadata": {
        "id": "xPDHZHAsmHcK"
      },
      "execution_count": 5,
      "outputs": []
    },
    {
      "cell_type": "markdown",
      "source": [
        "##Relatório de Progresso Diário:"
      ],
      "metadata": {
        "id": "FPW7hiWJrUzk"
      }
    },
    {
      "cell_type": "markdown",
      "source": [
        "- Exibir os dados"
      ],
      "metadata": {
        "id": "n8lWcz-7rhba"
      }
    },
    {
      "cell_type": "code",
      "source": [
        "\n",
        "print(\"\\nDados do Relatório:\")\n",
        "print(df)"
      ],
      "metadata": {
        "colab": {
          "base_uri": "https://localhost:8080/"
        },
        "id": "u52btHrjmUB4",
        "outputId": "a478f4f1-1e5c-4b3c-83f4-e2411da53d12"
      },
      "execution_count": 7,
      "outputs": [
        {
          "output_type": "stream",
          "name": "stdout",
          "text": [
            "\n",
            "Dados do Relatório:\n",
            "       Dia  Horas Trabalhadas  Bugs Corrigidos  Tarefas Concluidas\n",
            "0  Segunda                  6                3                   5\n",
            "1    Terça                  7                2                   4\n",
            "2   Quarta                  8                1                   6\n",
            "3   Quinta                  6                4                   4\n",
            "4    Sexta                  7                3                   5\n",
            "5   Sábado                  5                2                   3\n",
            "6  Domingo                  4                1                   2\n"
          ]
        }
      ]
    },
    {
      "cell_type": "markdown",
      "source": [
        "- Total de Horas Trabalhadas"
      ],
      "metadata": {
        "id": "_EPHLo3ury1t"
      }
    },
    {
      "cell_type": "code",
      "source": [
        "\n",
        "total_horas_trabalhadas = df['Horas Trabalhadas'].sum()\n",
        "print(\"\\nTotal de Horas Trabalhadas:\", total_horas_trabalhadas)"
      ],
      "metadata": {
        "colab": {
          "base_uri": "https://localhost:8080/"
        },
        "id": "KxwyYj_hmbMC",
        "outputId": "8583e08a-1461-47fb-9983-86022d23eedb"
      },
      "execution_count": 8,
      "outputs": [
        {
          "output_type": "stream",
          "name": "stdout",
          "text": [
            "\n",
            "Total de Horas Trabalhadas: 43\n"
          ]
        }
      ]
    },
    {
      "cell_type": "markdown",
      "source": [
        "- Média Diária de Horas Trabalhadas"
      ],
      "metadata": {
        "id": "Ie_Uhk5er5sp"
      }
    },
    {
      "cell_type": "code",
      "source": [
        "\n",
        "media_horas_trabalhadas = df['Horas Trabalhadas'].mean()\n",
        "print(\"Média Diária de Horas Trabalhadas:\", media_horas_trabalhadas)"
      ],
      "metadata": {
        "colab": {
          "base_uri": "https://localhost:8080/"
        },
        "id": "96g4cJY0md1b",
        "outputId": "48f383af-d13d-46aa-ef6d-d1838fd65f15"
      },
      "execution_count": 9,
      "outputs": [
        {
          "output_type": "stream",
          "name": "stdout",
          "text": [
            "Média Diária de Horas Trabalhadas: 6.142857142857143\n"
          ]
        }
      ]
    },
    {
      "cell_type": "markdown",
      "source": [
        "- Total de Bugs Corrigidos"
      ],
      "metadata": {
        "id": "sdKG7QYasBnw"
      }
    },
    {
      "cell_type": "code",
      "source": [
        "\n",
        "total_bugs_corrigidos = df['Bugs Corrigidos'].sum()\n",
        "print(\"\\nTotal de Bugs Corrigidos:\", total_bugs_corrigidos)"
      ],
      "metadata": {
        "colab": {
          "base_uri": "https://localhost:8080/"
        },
        "id": "uSybfK_Imgmj",
        "outputId": "a8f893d0-80dd-4eca-b429-34a04ff320c4"
      },
      "execution_count": 10,
      "outputs": [
        {
          "output_type": "stream",
          "name": "stdout",
          "text": [
            "\n",
            "Total de Bugs Corrigidos: 16\n"
          ]
        }
      ]
    },
    {
      "cell_type": "markdown",
      "source": [
        "- Média Diária de Bugs Corrigidos"
      ],
      "metadata": {
        "id": "FGGD9ezIsHtN"
      }
    },
    {
      "cell_type": "code",
      "source": [
        "\n",
        "media_bugs_corrigidos = df['Bugs Corrigidos'].mean()\n",
        "print(\"Média Diária de Bugs Corrigidos:\", media_bugs_corrigidos)"
      ],
      "metadata": {
        "colab": {
          "base_uri": "https://localhost:8080/"
        },
        "id": "N0JKsJf8mk36",
        "outputId": "dac1c40a-09b0-4da1-83c0-dbd5b40c2b11"
      },
      "execution_count": 11,
      "outputs": [
        {
          "output_type": "stream",
          "name": "stdout",
          "text": [
            "Média Diária de Bugs Corrigidos: 2.2857142857142856\n"
          ]
        }
      ]
    },
    {
      "cell_type": "markdown",
      "source": [
        "- Total de Tarefas Concluídas"
      ],
      "metadata": {
        "id": "PRwHMl4XsV8-"
      }
    },
    {
      "cell_type": "code",
      "source": [
        "\n",
        "total_tarefas_concluidas = df['Tarefas Concluidas'].sum()\n",
        "print(\"\\nTotal de Tarefas Concluídas:\", total_tarefas_concluidas)"
      ],
      "metadata": {
        "colab": {
          "base_uri": "https://localhost:8080/"
        },
        "id": "lDrY31AVmn6F",
        "outputId": "d1f88eb8-e3dd-4342-caa2-b06c2236718c"
      },
      "execution_count": 12,
      "outputs": [
        {
          "output_type": "stream",
          "name": "stdout",
          "text": [
            "\n",
            "Total de Tarefas Concluídas: 29\n"
          ]
        }
      ]
    },
    {
      "cell_type": "markdown",
      "source": [
        "- Média Diária de Tarefas Concluídas"
      ],
      "metadata": {
        "id": "zWA4EI2Jsb-0"
      }
    },
    {
      "cell_type": "code",
      "source": [
        "\n",
        "media_tarefas_concluidas = df['Tarefas Concluidas'].mean()\n",
        "print(\"Média Diária de Tarefas Concluídas:\", media_tarefas_concluidas)"
      ],
      "metadata": {
        "colab": {
          "base_uri": "https://localhost:8080/"
        },
        "id": "o3c5LlKpmqA2",
        "outputId": "e44f5a79-15c1-48b0-e4f7-6f6f4e0e84ce"
      },
      "execution_count": 13,
      "outputs": [
        {
          "output_type": "stream",
          "name": "stdout",
          "text": [
            "Média Diária de Tarefas Concluídas: 4.142857142857143\n"
          ]
        }
      ]
    },
    {
      "cell_type": "markdown",
      "source": [
        "- Produtividade Diária (Tarefas Concluídas por Hora)"
      ],
      "metadata": {
        "id": "ExeLC6eVsiIf"
      }
    },
    {
      "cell_type": "code",
      "source": [
        "\n",
        "df['Produtividade'] = df['Tarefas Concluidas'] / df['Horas Trabalhadas']\n",
        "print(\"\\nProdutividade Diária (Tarefas Concluídas por Hora):\")\n",
        "print(df[['Dia', 'Produtividade']])"
      ],
      "metadata": {
        "colab": {
          "base_uri": "https://localhost:8080/"
        },
        "id": "5IoiXwU7mvBW",
        "outputId": "112e0003-ea37-45bc-f3b4-ce2eb33e4054"
      },
      "execution_count": 14,
      "outputs": [
        {
          "output_type": "stream",
          "name": "stdout",
          "text": [
            "\n",
            "Produtividade Diária (Tarefas Concluídas por Hora):\n",
            "       Dia  Produtividade\n",
            "0  Segunda       0.833333\n",
            "1    Terça       0.571429\n",
            "2   Quarta       0.750000\n",
            "3   Quinta       0.666667\n",
            "4    Sexta       0.714286\n",
            "5   Sábado       0.600000\n",
            "6  Domingo       0.500000\n"
          ]
        }
      ]
    },
    {
      "cell_type": "code",
      "source": [
        "# Gráfico de barras para Horas Trabalhadas e Bugs Corrigidos\n",
        "plt.figure(figsize=(10, 6))\n",
        "plt.bar(df['Dia'], df['Horas Trabalhadas'], label='Horas Trabalhadas')\n",
        "plt.bar(df['Dia'], df['Bugs Corrigidos'], label='Bugs Corrigidos')\n",
        "plt.xlabel('Dia')\n",
        "plt.ylabel('Quantidade')\n",
        "plt.title('Horas Trabalhadas e Bugs Corrigidos por Dia')\n",
        "plt.legend()\n",
        "plt.show()"
      ],
      "metadata": {
        "colab": {
          "base_uri": "https://localhost:8080/",
          "height": 564
        },
        "id": "6JxDaZQJmwhA",
        "outputId": "3f339511-7bb7-4218-ad55-551a8fd156e4"
      },
      "execution_count": 15,
      "outputs": [
        {
          "output_type": "display_data",
          "data": {
            "text/plain": [
              "<Figure size 1000x600 with 1 Axes>"
            ],
            "image/png": "[encoded data removed]"
          },
          "metadata": {}
        }
      ]
    }
  ]
}