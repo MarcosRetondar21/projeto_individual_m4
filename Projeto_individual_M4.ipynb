{
  "nbformat": 4,
  "nbformat_minor": 0,
  "metadata": {
    "colab": {
      "provenance": []
    },
    "kernelspec": {
      "name": "python3",
      "display_name": "Python 3"
    },
    "language_info": {
      "name": "python"
    }
  },
  "cells": [
    {
      "cell_type": "markdown",
      "source": [
        "![Logo da Resilia](https://www.resilia.com.br/wp-content/uploads/2021/08/logo.png)"
      ],
      "metadata": {
        "id": "FXnf790tt0JL"
      }
    },
    {
      "cell_type": "markdown",
      "source": [
        "# Projeto individual Módulo 4\n",
        "Aluno: Marcos da Costa Retondar"
      ],
      "metadata": {
        "id": "jZJJvNPot0un"
      }
    },
    {
      "cell_type": "markdown",
      "source": [
        "- importando as bibliotecas necessárias"
      ],
      "metadata": {
        "id": "s_zRVItZt1P9"
      }
    },
    {
      "cell_type": "code",
      "execution_count": null,
      "metadata": {
        "id": "OvGnhFxkjLsU"
      },
      "outputs": [],
      "source": [
        "import pandas as pd\n",
        "import numpy as np\n",
        "import matplotlib.pyplot as plt"
      ]
    },
    {
      "cell_type": "markdown",
      "source": [
        "- Definindo um dicionário para criação da tabela"
      ],
      "metadata": {
        "id": "P05VWdImj9PV"
      }
    },
    {
      "cell_type": "code",
      "source": [
        "dados = {\n",
        "    'Dia': ['Segunda', 'Terça', 'Quarta', 'Quinta','Sexta','Sábado','Domingo'],\n",
        "    'Horas Trabalhadas': [6, 7, 8, 6,7,5,4],\n",
        "    'Bugs Corrigidos': [3,2,1,4,3,2,1],\n",
        "    'Tarefas Concluidas':[5,4,6,4,5,3,2]\n",
        "}"
      ],
      "metadata": {
        "id": "-ILFYOTRkDQh"
      },
      "execution_count": null,
      "outputs": []
    },
    {
      "cell_type": "markdown",
      "source": [
        "- Criar o DataFrame com os dados do projeto"
      ],
      "metadata": {
        "id": "my_4reyEuBAa"
      }
    },
    {
      "cell_type": "code",
      "source": [
        "\n",
        "df = pd.DataFrame(dados)"
      ],
      "metadata": {
        "id": "xPDHZHAsmHcK"
      },
      "execution_count": null,
      "outputs": []
    },
    {
      "cell_type": "markdown",
      "source": [
        "##Relatório de Progresso Diário:"
      ],
      "metadata": {
        "id": "FPW7hiWJrUzk"
      }
    },
    {
      "cell_type": "markdown",
      "source": [
        "- Exibir os dados"
      ],
      "metadata": {
        "id": "n8lWcz-7rhba"
      }
    },
    {
      "cell_type": "code",
      "source": [
        "\n",
        "print(\"\\nDados do Relatório:\")\n",
        "print(df)"
      ],
      "metadata": {
        "colab": {
          "base_uri": "https://localhost:8080/"
        },
        "id": "u52btHrjmUB4",
        "outputId": "2baa21db-e2db-4df3-a3a6-8ff67534daa0"
      },
      "execution_count": null,
      "outputs": [
        {
          "output_type": "stream",
          "name": "stdout",
          "text": [
            "\n",
            "Dados do Relatório:\n",
            "       Dia  Horas Trabalhadas  Bugs Corrigidos  Tarefas Concluidas\n",
            "0  Segunda                  6                3                   5\n",
            "1    Terça                  7                2                   4\n",
            "2   Quarta                  8                1                   6\n",
            "3   Quinta                  6                4                   4\n",
            "4    Sexta                  7                3                   5\n",
            "5   Sábado                  5                2                   3\n",
            "6  Domingo                  4                1                   2\n"
          ]
        }
      ]
    },
    {
      "cell_type": "markdown",
      "source": [
        "- Total de Horas Trabalhadas"
      ],
      "metadata": {
        "id": "_EPHLo3ury1t"
      }
    },
    {
      "cell_type": "code",
      "source": [
        "\n",
        "total_horas_trabalhadas = df['Horas Trabalhadas'].sum()\n",
        "print(\"\\nTotal de Horas Trabalhadas:\", total_horas_trabalhadas)"
      ],
      "metadata": {
        "colab": {
          "base_uri": "https://localhost:8080/"
        },
        "id": "KxwyYj_hmbMC",
        "outputId": "3f5f2470-3f1f-42e4-d280-3cbc0d6a51e8"
      },
      "execution_count": null,
      "outputs": [
        {
          "output_type": "stream",
          "name": "stdout",
          "text": [
            "\n",
            "Total de Horas Trabalhadas: 43\n"
          ]
        }
      ]
    },
    {
      "cell_type": "markdown",
      "source": [
        "- Média Diária de Horas Trabalhadas"
      ],
      "metadata": {
        "id": "Ie_Uhk5er5sp"
      }
    },
    {
      "cell_type": "code",
      "source": [
        "\n",
        "media_horas_trabalhadas = df['Horas Trabalhadas'].mean()\n",
        "print(\"Média Diária de Horas Trabalhadas:\", media_horas_trabalhadas)"
      ],
      "metadata": {
        "colab": {
          "base_uri": "https://localhost:8080/"
        },
        "id": "96g4cJY0md1b",
        "outputId": "7ef60ba2-d81f-4769-9a37-feaa0cb97d56"
      },
      "execution_count": null,
      "outputs": [
        {
          "output_type": "stream",
          "name": "stdout",
          "text": [
            "Média Diária de Horas Trabalhadas: 6.142857142857143\n"
          ]
        }
      ]
    },
    {
      "cell_type": "markdown",
      "source": [
        "- Total de Bugs Corrigidos"
      ],
      "metadata": {
        "id": "sdKG7QYasBnw"
      }
    },
    {
      "cell_type": "code",
      "source": [
        "\n",
        "total_bugs_corrigidos = df['Bugs Corrigidos'].sum()\n",
        "print(\"\\nTotal de Bugs Corrigidos:\", total_bugs_corrigidos)"
      ],
      "metadata": {
        "colab": {
          "base_uri": "https://localhost:8080/"
        },
        "id": "uSybfK_Imgmj",
        "outputId": "4ecb5bd8-b1aa-4f32-8998-4383f281ba1c"
      },
      "execution_count": null,
      "outputs": [
        {
          "output_type": "stream",
          "name": "stdout",
          "text": [
            "\n",
            "Total de Bugs Corrigidos: 16\n"
          ]
        }
      ]
    },
    {
      "cell_type": "markdown",
      "source": [
        "- Média Diária de Bugs Corrigidos"
      ],
      "metadata": {
        "id": "FGGD9ezIsHtN"
      }
    },
    {
      "cell_type": "code",
      "source": [
        "\n",
        "media_bugs_corrigidos = df['Bugs Corrigidos'].mean()\n",
        "print(\"Média Diária de Bugs Corrigidos:\", media_bugs_corrigidos)"
      ],
      "metadata": {
        "colab": {
          "base_uri": "https://localhost:8080/"
        },
        "id": "N0JKsJf8mk36",
        "outputId": "1dc34701-d042-49da-dc7c-54f679a1fd88"
      },
      "execution_count": null,
      "outputs": [
        {
          "output_type": "stream",
          "name": "stdout",
          "text": [
            "Média Diária de Bugs Corrigidos: 2.2857142857142856\n"
          ]
        }
      ]
    },
    {
      "cell_type": "markdown",
      "source": [
        "- Total de Tarefas Concluídas"
      ],
      "metadata": {
        "id": "PRwHMl4XsV8-"
      }
    },
    {
      "cell_type": "code",
      "source": [
        "\n",
        "total_tarefas_concluidas = df['Tarefas Concluidas'].sum()\n",
        "print(\"\\nTotal de Tarefas Concluídas:\", total_tarefas_concluidas)"
      ],
      "metadata": {
        "colab": {
          "base_uri": "https://localhost:8080/"
        },
        "id": "lDrY31AVmn6F",
        "outputId": "a97a85ff-22a8-4939-d126-8398f76723b7"
      },
      "execution_count": null,
      "outputs": [
        {
          "output_type": "stream",
          "name": "stdout",
          "text": [
            "\n",
            "Total de Tarefas Concluídas: 29\n"
          ]
        }
      ]
    },
    {
      "cell_type": "markdown",
      "source": [
        "- Média Diária de Tarefas Concluídas"
      ],
      "metadata": {
        "id": "zWA4EI2Jsb-0"
      }
    },
    {
      "cell_type": "code",
      "source": [
        "\n",
        "media_tarefas_concluidas = df['Tarefas Concluidas'].mean()\n",
        "print(\"Média Diária de Tarefas Concluídas:\", media_tarefas_concluidas)"
      ],
      "metadata": {
        "colab": {
          "base_uri": "https://localhost:8080/"
        },
        "id": "o3c5LlKpmqA2",
        "outputId": "4184a6b0-493e-420a-c4b3-fe5016a6ede0"
      },
      "execution_count": null,
      "outputs": [
        {
          "output_type": "stream",
          "name": "stdout",
          "text": [
            "Média Diária de Tarefas Concluídas: 4.142857142857143\n"
          ]
        }
      ]
    },
    {
      "cell_type": "markdown",
      "source": [
        "- Produtividade Diária (Tarefas Concluídas por Hora)"
      ],
      "metadata": {
        "id": "ExeLC6eVsiIf"
      }
    },
    {
      "cell_type": "code",
      "source": [
        "\n",
        "df['Produtividade'] = df['Tarefas Concluidas'] / df['Horas Trabalhadas']\n",
        "print(\"\\nProdutividade Diária (Tarefas Concluídas por Hora):\")\n",
        "print(df[['Dia', 'Produtividade']])"
      ],
      "metadata": {
        "colab": {
          "base_uri": "https://localhost:8080/"
        },
        "id": "5IoiXwU7mvBW",
        "outputId": "c11a7a76-0a09-45eb-d335-08129454d0b6"
      },
      "execution_count": null,
      "outputs": [
        {
          "output_type": "stream",
          "name": "stdout",
          "text": [
            "\n",
            "Produtividade Diária (Tarefas Concluídas por Hora):\n",
            "       Dia  Produtividade\n",
            "0  Segunda       0.833333\n",
            "1    Terça       0.571429\n",
            "2   Quarta       0.750000\n",
            "3   Quinta       0.666667\n",
            "4    Sexta       0.714286\n",
            "5   Sábado       0.600000\n",
            "6  Domingo       0.500000\n"
          ]
        }
      ]
    },
    {
      "cell_type": "markdown",
      "source": [
        "# Análise do Relatório de Progresso Diário\n",
        "\n",
        "O relatório de progresso diário apresenta informações sobre as horas trabalhadas, bugs corrigidos e tarefas concluídas ao longo de uma semana de trabalho. Vamos analisar os dados para entender o desempenho da equipe e identificar possíveis padrões ou correlações entre as métricas.\n",
        "\n",
        "## Análise das Métricas\n",
        "\n",
        "**Horas Trabalhadas:** O total de horas trabalhadas ao longo da semana foi de 43 horas, com uma média diária de aproximadamente 6.14 horas por dia. Essa métrica nos mostra a carga horária média diária do time, o que é relevante para o controle de jornada e o planejamento de recursos. É importante verificar se essa média está alinhada com o esperado para garantir uma distribuição adequada do trabalho ao longo dos dias da semana.\n",
        "\n",
        "**Bugs Corrigidos:** Durante a semana, a equipe corrigiu um total de 16 bugs, com uma média diária de aproximadamente 2.29 bugs por dia. Essa métrica indica a quantidade média de problemas identificados e solucionados pela equipe em cada dia da semana. É fundamental monitorar essa métrica para garantir que a equipe esteja lidando efetivamente com os problemas identificados e evitar acúmulos de bugs que possam impactar a qualidade do projeto.\n",
        "\n",
        "**Tarefas Concluídas:** Foram concluídas 29 tarefas ao longo da semana, com uma média diária de aproximadamente 4.14 tarefas por dia. Essa métrica representa a produtividade diária do time em relação às tarefas finalizadas. É importante avaliar se essa média está de acordo com as expectativas e metas estabelecidas para o projeto, buscando sempre aumentar a eficiência e a entrega de resultados.\n",
        "\n",
        "## Análise da Produtividade\n",
        "\n",
        "A produtividade diária é calculada como o número de tarefas concluídas por hora trabalhada e pode nos fornecer insights valiosos sobre a eficiência do time. Vamos visualizar a produtividade em um gráfico de barras para melhor compreensão.\n",
        "\n"
      ],
      "metadata": {
        "id": "FR3bYAfts_tc"
      }
    },
    {
      "cell_type": "markdown",
      "source": [
        "- Gráfico de barras horizontais empilhadas para Horas Trabalhadas e Bugs Corrigidos"
      ],
      "metadata": {
        "id": "MEWZz9FszwOo"
      }
    },
    {
      "cell_type": "code",
      "source": [
        "\n",
        "plt.figure(figsize=(10, 6))\n",
        "plt.barh(df['Dia'], df['Horas Trabalhadas'], label='Horas Trabalhadas')\n",
        "plt.barh(df['Dia'], df['Bugs Corrigidos'], label='Bugs Corrigidos', left=df['Horas Trabalhadas'])\n",
        "plt.ylabel('Dia')\n",
        "plt.xlabel('Quantidade')\n",
        "plt.title('Horas Trabalhadas e Bugs Corrigidos por Dia')\n",
        "plt.legend()\n",
        "plt.show()"
      ],
      "metadata": {
        "colab": {
          "base_uri": "https://localhost:8080/",
          "height": 564
        },
        "id": "6JxDaZQJmwhA",
        "outputId": "89699cae-4783-4b63-abdb-44d5b5ab6100"
      },
      "execution_count": null,
      "outputs": [
        {
          "output_type": "display_data",
          "data": {
            "text/plain": [
              "<Figure size 1000x600 with 1 Axes>"
            ],
            "image/png": "[encoded data removed]"
          },
          "metadata": {}
        }
      ]
    },
    {
      "cell_type": "markdown",
      "source": [
        "\n",
        "**Análise do Gráfico de Produtividade Diária**\n",
        "\n",
        "O gráfico de produtividade diária mostra a quantidade média de tarefas concluídas por hora trabalhada em cada dia da semana. Podemos observar que a quarta-feira (Quarta) apresenta a maior produtividade, com cerca de 0.75 tarefas concluídas por hora. Já o domingo (Domingo) tem a menor produtividade, com aproximadamente 0.5 tarefas concluídas por hora.\n",
        "\n",
        "Essa análise nos permite identificar os dias de maior e menor produtividade da equipe, o que pode indicar padrões de desempenho e auxiliar no planejamento de projetos futuros. Além disso, é possível investigar possíveis fatores que influenciam a produtividade em cada dia da semana, como o volume de trabalho, a complexidade das tarefas ou a disponibilidade de recursos.\n",
        "\n",
        "A análise exploratória de dados é fundamental para compreender o desempenho da equipe e tomar decisões informadas. É importante ressaltar que essas análises podem ser ainda mais aprofundadas, combinando esses dados com outras informações relevantes, para obter uma visão completa e detalhada do projeto. Através dessa análise, a equipe pode identificar áreas de melhoria, otimizar o planejamento e alinhar os esforços para alcançar melhores resultados."
      ],
      "metadata": {
        "id": "hO5adf5utWO7"
      }
    }
  ]
}